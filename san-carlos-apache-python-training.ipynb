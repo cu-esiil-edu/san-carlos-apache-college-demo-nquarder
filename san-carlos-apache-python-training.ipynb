{
  "nbformat": 4,
  "nbformat_minor": 0,
  "metadata": {
    "colab": {
      "provenance": []
    },
    "kernelspec": {
      "name": "python3",
      "display_name": "Python 3"
    },
    "language_info": {
      "name": "python"
    }
  },
  "cells": [
    {
      "cell_type": "markdown",
      "source": [
        "<img style=\"float: left;\" src=\"https://www.apachecollege.org/wp-content/uploads/2018/10/cropped-SCAC-logo-2014-1.png\" width=\"175\" height=\"175\"><img style=\"float: right;\" src=\"https://pbs.twimg.com/profile_images/1537109064093532160/mG03dW9G_400x400.jpg\" width=\"175\" height=\"175\">\n"
      ],
      "metadata": {
        "id": "29wh6eUyhzrX"
      }
    },
    {
      "cell_type": "markdown",
      "source": [
        "Welcome to the ESIIL-San Carlos Apache College Python Training. My name Nate Quarderer and I'm the Education Director at the Environmental Data Science Innovation & Inclusion Lab (ESIIL). Today I'm going to demonstrate for you some GIS + Earth Data Science (EDS) applications using Python.\n",
        "\n",
        "In **Part 1 (Working with Spatial Data in Python)** we'll show you how to create maps using data from the U.S. Census Bureau, specifically **The American Indian/Alaska Native/Native Hawaiian (AIANNH) Areas Shapefile:** https://catalog.data.gov/dataset/tiger-line-shapefile-2020-nation-u-s-american-indian-alaska-native-native-hawaiian-aiannh-areas\n",
        "\n",
        "In **Part 2 (Working with Time-Series Data in Python)** you will learn how to access data from the [Global Historical Climatology Network daily (GHCNd)](https://www.ncei.noaa.gov/products/land-based-station/global-historical-climatology-network-daily) at **NOAA**. We will then use those data to create a time-series plot of temperature or precipitation over time.\n",
        "\n",
        "In **Part 3 (Create Interactive Maps with Folium)** you will learn how to create an interactive map of the San Carlos Apache Reservation using folium."
      ],
      "metadata": {
        "id": "9vqDKe3SeBk3"
      }
    },
    {
      "cell_type": "markdown",
      "source": [
        "# Part 1: Working with Spatial Vector Data in Python\n",
        "\n",
        "### About Spatial Vector Data\n",
        "\n",
        "Vector data are composed of discrete geometric locations (x, y values) known as vertices that define the “shape” of the spatial object. The organization of the vertices determines the type of vector that you are working with. There are three types of vector data:\n",
        "\n",
        "**Points:** Each individual point is defined by a single x, y coordinate. Examples of point data include: sampling locations, the location of individual trees or the location of plots.\n",
        "\n",
        "**Lines:** Lines are composed of many (at least 2) vertices, or points, that are connected. For instance, a road or a stream may be represented by a line. This line is composed of a series of segments, each “bend” in the road or stream represents a vertex that has defined x, y location.\n",
        "\n",
        "**Polygons:** A polygon consists of 3 or more vertices that are connected and “closed”. Thus, the outlines of plot boundaries, lakes, oceans, and states or countries are often represented by polygons.\n",
        "\n",
        "\n",
        "<img style=\"float: left;\" src=\"https://www.earthdatascience.org/images/earth-analytics/spatial-data/points-lines-polygons-vector-data-types.png\">\n",
        "\n",
        "\n",
        "> ### ✨ Read more about working with spatial data using Python in our free, open EDS textbook, [here](https://www.earthdatascience.org/courses/intro-to-earth-data-science/file-formats/use-spatial-data/use-vector-data/). ✨\n"
      ],
      "metadata": {
        "id": "7cfaeQM0DkfR"
      }
    },
    {
      "cell_type": "code",
      "source": [
        "# Import Python packages\n",
        "import matplotlib.pyplot as plt\n",
        "import pandas as pd\n",
        "import geopandas as gpd\n",
        "import folium"
      ],
      "metadata": {
        "id": "LIRIcqbHeatN"
      },
      "execution_count": null,
      "outputs": []
    },
    {
      "cell_type": "code",
      "source": [
        "# Land areas url\n",
        "aiannh_url = \"https://www2.census.gov/geo/tiger/TIGER2020/AIANNH/tl_2020_us_aiannh.zip\"\n",
        "\n",
        "# Open land area boundaries\n",
        "aiannh_boundary = gpd.read_file(aiannh_url)\n",
        "print(aiannh_boundary)\n",
        "\n",
        "# Plot land area boundaries\n",
        "fig, ax = plt.subplots(figsize=(20,12))\n",
        "aiannh_boundary.plot(color='gold',\n",
        "                         edgecolor='purple',\n",
        "                         ax=ax)\n",
        "ax.set_title(\"Map of Federally Recognized American Indian \\nReservations and Off-Reservation Trust Land Areas\", fontsize=30)\n",
        "plt.show()"
      ],
      "metadata": {
        "id": "BGFs4J9zmoh7"
      },
      "execution_count": null,
      "outputs": []
    },
    {
      "cell_type": "code",
      "source": [
        "# Open US State boundary\n",
        "us_url = \"https://www2.census.gov/geo/tiger/GENZ2018/shp/cb_2018_us_state_20m.zip\"\n",
        "\n",
        "us_gdf = gpd.read_file(us_url)\n",
        "us_gdf"
      ],
      "metadata": {
        "id": "FSOH517gz3Ze"
      },
      "execution_count": null,
      "outputs": []
    },
    {
      "cell_type": "code",
      "source": [
        "# Select AZ\n",
        "az_bndry = us_gdf.loc[us_gdf['NAME'] == 'Arizona']\n",
        "\n",
        "print(\"The CRS of the AZ shapefile is:\", az_bndry.crs)\n",
        "az_bndry.plot(color='gold',\n",
        "                    edgecolor='black')"
      ],
      "metadata": {
        "id": "lbdYNEh_0eYV"
      },
      "execution_count": null,
      "outputs": []
    },
    {
      "cell_type": "code",
      "source": [
        "# Clip AIANNH boundary to AZ boundary\n",
        "aiannh_az = aiannh_boundary.clip(az_bndry.geometry)\n",
        "aiannh_az"
      ],
      "metadata": {
        "id": "TEuHHno124YM"
      },
      "execution_count": null,
      "outputs": []
    },
    {
      "cell_type": "code",
      "source": [
        "# Plot clipped AIANNH boundary\n",
        "fig, ax = plt.subplots(figsize=(10,7))\n",
        "az_bndry.plot(color='linen',\n",
        "              edgecolor='dimgrey',\n",
        "              ax=ax)\n",
        "\n",
        "\n",
        "aiannh_az.plot(ax=ax,\n",
        "               edgecolor='black',\n",
        "               column='NAME',\n",
        "               legend=True,\n",
        "               alpha=0.8)\n",
        "\n",
        "# Define and place legend\n",
        "leg = ax.get_legend()\n",
        "leg.set_bbox_to_anchor((1.6, 1.0, 0., 0.))\n",
        "\n",
        "plt.title(\"Federally Recognized American Indian Reservations \\nand Off-Reservation Trust Land Areas (AZ)\", fontsize=20)\n",
        "plt.show()"
      ],
      "metadata": {
        "id": "cRG_gXzu135E"
      },
      "execution_count": null,
      "outputs": []
    },
    {
      "cell_type": "code",
      "source": [
        "# Select each reservation and plot separately\n",
        "navajo_nation_bndry = aiannh_boundary.loc[aiannh_boundary['NAME'] == 'Navajo Nation']\n",
        "san_carlos_bndry = aiannh_boundary.loc[aiannh_boundary['NAME'] == 'San Carlos']"
      ],
      "metadata": {
        "id": "Np9oMM5Y4c8y"
      },
      "execution_count": null,
      "outputs": []
    },
    {
      "cell_type": "code",
      "source": [
        "# Plot Navajo Nation\n",
        "navajo_nation_bndry.plot(color='beige',\n",
        "                         edgecolor='black',\n",
        "                         figsize=(20,12))"
      ],
      "metadata": {
        "id": "8X0EyAkc_jQq"
      },
      "execution_count": null,
      "outputs": []
    },
    {
      "cell_type": "code",
      "source": [
        "# Plot San Carlos\n",
        "san_carlos_bndry.plot(color='beige',\n",
        "                         edgecolor='black',\n",
        "                         figsize=(20,12))"
      ],
      "metadata": {
        "id": "6HeYshyb_62O"
      },
      "execution_count": null,
      "outputs": []
    },
    {
      "cell_type": "markdown",
      "source": [
        "# Part 2: Working with Time-Series Data in Python\n",
        "\n",
        "Here we're using the NOAA National Centers for Environmental Information (NCEI) [Access Data Service](https://www.ncei.noaa.gov/support/access-data-service-api-user-documentation) application progamming interface (API) to request data from their web servers. We will be using data collected as part of the [Global Historical Climatology Network daily (GHCNd)](https://www.ncei.noaa.gov/products/land-based-station/global-historical-climatology-network-daily) program at NOAA.\n",
        "\n",
        "For this example we're requesting data near the **Black River** (station ID USC00020808) located on the San Carlos Reservation (**33.4783°, -109.7516°**).\n",
        "\n",
        "https://www.ncdc.noaa.gov/cdo-web/datasets/GHCND/stations/GHCND:USC00020808/detail\n",
        "\n",
        "\n",
        "> ### ✨ Read more about working with time-series data using Python in our free, open EDS textbook, [here](https://www.earthdatascience.org/courses/use-data-open-source-python/use-time-series-data-in-python/introduction-to-time-series-in-pandas-python/) ✨"
      ],
      "metadata": {
        "id": "4BiwsuY4D5Yy"
      }
    },
    {
      "cell_type": "code",
      "source": [
        "# Use NCEI API to pull data from the station @ the Black River, AZ (San Carlos Apache)\n",
        "black_river_api_url = (\n",
        "           \"https://www.ncei.noaa.gov/access/services/data/v1\"\n",
        "           \"?dataset=daily-summaries&\"\n",
        "           \"dataTypes=TAVG,TMAX,TMIN,PRCP&\"\n",
        "           \"stations=USC00020808&\"\n",
        "           \"startDate=1948-07-01&\"\n",
        "           \"endDate=2023-10-01&\"\n",
        "           \"includeStationName=true&\"\n",
        "           #\"includeStationLocation=1&\"\n",
        "           \"units=standard\"\n",
        "           )"
      ],
      "metadata": {
        "id": "bCmcgZ_6D896"
      },
      "execution_count": null,
      "outputs": []
    },
    {
      "cell_type": "code",
      "source": [
        "# Open and clean data with pandas\n",
        "black_river_df = pd.read_csv(black_river_api_url,\n",
        "                              na_values=[\"-99\"],\n",
        "                              index_col=[\"DATE\"],\n",
        "                              parse_dates=[\"DATE\"])\n",
        "black_river_df"
      ],
      "metadata": {
        "id": "7DlAkDLIGHe1"
      },
      "execution_count": null,
      "outputs": []
    },
    {
      "cell_type": "code",
      "source": [
        "# Plot data with matplotlib\n",
        "fig, ax = plt.subplots(figsize=(10,6))\n",
        "\n",
        "black_river_df.plot(y='PRCP',\n",
        "                 ax=ax,\n",
        "                 ylabel='Precipitation (in)',\n",
        "                 xlabel='',\n",
        "                 title='Precipitation (in) @ Black River, AZ\\nSan Carlos Reservation\\n1948-2023')\n",
        "\n",
        "plt.show()"
      ],
      "metadata": {
        "id": "PbrDh7GbGNX4"
      },
      "execution_count": null,
      "outputs": []
    },
    {
      "cell_type": "markdown",
      "source": [
        "# Part 3: Creating Interactive Maps using Folium\n",
        "Here you will create an interactive map of the Black River USGS gage location and the San Carlos Apache Reservation using folium.\n",
        "\n",
        "\n"
      ],
      "metadata": {
        "id": "modo4fwbNDvv"
      }
    },
    {
      "cell_type": "code",
      "source": [
        "# Create interactive map using folium\n",
        "\n",
        "# River gage info\n",
        "gage_lat = 33.4783\n",
        "gage_long = -109.7516\n",
        "gage_location_name = 'River Gage - Black River'\n",
        "\n",
        "# San Carlos Apache College info\n",
        "scac_lat = 33.3522\n",
        "scac_long = -110.4519\n",
        "scac_loc_name = 'San Carlos Apache College'\n",
        "\n",
        "# Create a Folium map object\n",
        "m = folium.Map(location=[scac_lat,scac_long], zoom_start=15)\n",
        "\n",
        "# Convert the GeoDataFrame to GeoJSON format\n",
        "geojson_data = san_carlos_bndry.to_json()\n",
        "\n",
        "# Add the GeoJSON data to the map as a GeoJson layer\n",
        "folium.GeoJson(geojson_data).add_to(m)\n",
        "\n",
        "# Add marker for river gage\n",
        "folium.Marker(\n",
        "    location=[gage_lat, gage_long],\n",
        "    popup=gage_location_name,\n",
        "    icon=folium.Icon(color='black')\n",
        ").add_to(m)\n",
        "\n",
        "\n",
        "# Add marker for San Carlos Apache College\n",
        "folium.Marker(\n",
        "    location=[scac_lat, scac_long],\n",
        "    popup=scac_loc_name,\n",
        "    icon=folium.Icon(color='purple')\n",
        ").add_to(m)\n",
        "\n",
        "\n",
        "# Save the map as an HTML file or display it inline\n",
        "m.save('map.html')\n",
        "# OR\n",
        "m"
      ],
      "metadata": {
        "id": "h3AjlO9hNqMb"
      },
      "execution_count": null,
      "outputs": []
    }
  ]
}